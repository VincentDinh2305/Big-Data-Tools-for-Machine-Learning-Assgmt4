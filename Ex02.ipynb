{
 "cells": [
  {
   "cell_type": "raw",
   "metadata": {},
   "source": [
    "Dinh Hoang Viet Phuong - 301123263"
   ]
  },
  {
   "cell_type": "raw",
   "metadata": {},
   "source": [
    "1. Download the wine dataset wine.csv accompanied with this assignment and move it to a folder on your virtual machine."
   ]
  },
  {
   "cell_type": "raw",
   "metadata": {},
   "source": [
    "2. Load the wine dataset into a data frame named wine_x1"
   ]
  },
  {
   "cell_type": "code",
   "execution_count": 1,
   "metadata": {},
   "outputs": [
    {
     "name": "stdout",
     "output_type": "stream",
     "text": [
      "Row(fixed acidity=7.4, volatile acidity=0.7, citric acid=0.0, residual sugar=1.9, chlorides=0.076, free sulfur dioxide=11.0, total sulfur dioxide=34.0, density=0.9978, pH=3.51, sulphates=0.56, alcohol=9.4, quality=5)\n"
     ]
    }
   ],
   "source": [
    "from pyspark.sql import SparkSession\n",
    "\n",
    "# Initialize a SparkSession\n",
    "spark = SparkSession.builder.appName(\"wine_app\").getOrCreate()\n",
    "\n",
    "# Read the CSV file into a DataFrame, specifying the separator\n",
    "wine_x1 = spark.read.csv(\"/home/centos/Downloads/wine.csv\", header=True, inferSchema=True, sep=\";\")\n",
    "\n",
    "# Show the first few rows of the DataFrame\n",
    "print(wine_x1.head())"
   ]
  },
  {
   "cell_type": "raw",
   "metadata": {},
   "source": [
    "3. Using spark high level api functions (i.e. not pandas), carry out some initial investigation and record the results in your analysis, at minimum provide the following:"
   ]
  },
  {
   "cell_type": "code",
   "execution_count": 2,
   "metadata": {
    "scrolled": true
   },
   "outputs": [
    {
     "name": "stdout",
     "output_type": "stream",
     "text": [
      "Column Names:  ['fixed acidity', 'volatile acidity', 'citric acid', 'residual sugar', 'chlorides', 'free sulfur dioxide', 'total sulfur dioxide', 'density', 'pH', 'sulphates', 'alcohol', 'quality']\n"
     ]
    }
   ],
   "source": [
    "from pyspark.sql import SparkSession\n",
    "from pyspark.sql.functions import isnan, when, count, col\n",
    "\n",
    "spark = SparkSession.builder.appName(\"Wine Data Analysis\").getOrCreate()\n",
    "\n",
    "# a. Printout the Names of Columns\n",
    "print(\"Column Names: \", wine_x1.columns)"
   ]
  },
  {
   "cell_type": "code",
   "execution_count": 3,
   "metadata": {},
   "outputs": [
    {
     "name": "stdout",
     "output_type": "stream",
     "text": [
      "root\n",
      " |-- fixed acidity: double (nullable = true)\n",
      " |-- volatile acidity: double (nullable = true)\n",
      " |-- citric acid: double (nullable = true)\n",
      " |-- residual sugar: double (nullable = true)\n",
      " |-- chlorides: double (nullable = true)\n",
      " |-- free sulfur dioxide: double (nullable = true)\n",
      " |-- total sulfur dioxide: double (nullable = true)\n",
      " |-- density: double (nullable = true)\n",
      " |-- pH: double (nullable = true)\n",
      " |-- sulphates: double (nullable = true)\n",
      " |-- alcohol: double (nullable = true)\n",
      " |-- quality: integer (nullable = true)\n",
      "\n",
      "Column Types:  None\n"
     ]
    }
   ],
   "source": [
    "# b. Printout the Types of Each Column\n",
    "print(\"Column Types: \", wine_x1.printSchema())"
   ]
  },
  {
   "cell_type": "code",
   "execution_count": 4,
   "metadata": {},
   "outputs": [
    {
     "name": "stdout",
     "output_type": "stream",
     "text": [
      "+-------+------------------+-------------------+-------------------+------------------+--------------------+-------------------+--------------------+--------------------+-------------------+------------------+------------------+------------------+\n",
      "|summary|     fixed acidity|   volatile acidity|        citric acid|    residual sugar|           chlorides|free sulfur dioxide|total sulfur dioxide|             density|                 pH|         sulphates|           alcohol|           quality|\n",
      "+-------+------------------+-------------------+-------------------+------------------+--------------------+-------------------+--------------------+--------------------+-------------------+------------------+------------------+------------------+\n",
      "|  count|              1599|               1599|               1599|              1599|                1599|               1599|                1599|                1599|               1599|              1599|              1599|              1599|\n",
      "|   mean| 8.319637273295838| 0.5278205128205131| 0.2709756097560964|2.5388055034396517| 0.08746654158849257| 15.874921826141339|   46.46779237023139|  0.9967466791744831|  3.311113195747343|0.6581488430268921|10.422983114446502|5.6360225140712945|\n",
      "| stddev|1.7410963181276948|0.17905970415353525|0.19480113740531824|  1.40992805950728|0.047065302010090085|  10.46015696980971|   32.89532447829907|0.001887333953842...|0.15438646490354271|0.1695069795901101|1.0656675818473935|0.8075694397347051|\n",
      "|    min|               4.6|               0.12|                0.0|               0.9|               0.012|                1.0|                 6.0|             0.99007|               2.74|              0.33|               8.4|                 3|\n",
      "|    max|              15.9|               1.58|                1.0|              15.5|               0.611|               72.0|               289.0|             1.00369|               4.01|               2.0|              14.9|                 8|\n",
      "+-------+------------------+-------------------+-------------------+------------------+--------------------+-------------------+--------------------+--------------------+-------------------+------------------+------------------+------------------+\n",
      "\n"
     ]
    }
   ],
   "source": [
    "# c. Printout the Basic Statistics (Mean, Median, Quartiles)\n",
    "wine_x1.describe().show()"
   ]
  },
  {
   "cell_type": "code",
   "execution_count": 5,
   "metadata": {},
   "outputs": [
    {
     "name": "stdout",
     "output_type": "stream",
     "text": [
      "+-------+-------------+\n",
      "|summary|fixed acidity|\n",
      "+-------+-------------+\n",
      "|    min|          4.6|\n",
      "|    max|         15.9|\n",
      "+-------+-------------+\n",
      "\n",
      "+-------+----------------+\n",
      "|summary|volatile acidity|\n",
      "+-------+----------------+\n",
      "|    min|            0.12|\n",
      "|    max|            1.58|\n",
      "+-------+----------------+\n",
      "\n",
      "+-------+-----------+\n",
      "|summary|citric acid|\n",
      "+-------+-----------+\n",
      "|    min|        0.0|\n",
      "|    max|        1.0|\n",
      "+-------+-----------+\n",
      "\n",
      "+-------+--------------+\n",
      "|summary|residual sugar|\n",
      "+-------+--------------+\n",
      "|    min|           0.9|\n",
      "|    max|          15.5|\n",
      "+-------+--------------+\n",
      "\n",
      "+-------+---------+\n",
      "|summary|chlorides|\n",
      "+-------+---------+\n",
      "|    min|    0.012|\n",
      "|    max|    0.611|\n",
      "+-------+---------+\n",
      "\n",
      "+-------+-------------------+\n",
      "|summary|free sulfur dioxide|\n",
      "+-------+-------------------+\n",
      "|    min|                1.0|\n",
      "|    max|               72.0|\n",
      "+-------+-------------------+\n",
      "\n",
      "+-------+--------------------+\n",
      "|summary|total sulfur dioxide|\n",
      "+-------+--------------------+\n",
      "|    min|                 6.0|\n",
      "|    max|               289.0|\n",
      "+-------+--------------------+\n",
      "\n",
      "+-------+-------+\n",
      "|summary|density|\n",
      "+-------+-------+\n",
      "|    min|0.99007|\n",
      "|    max|1.00369|\n",
      "+-------+-------+\n",
      "\n",
      "+-------+----+\n",
      "|summary|  pH|\n",
      "+-------+----+\n",
      "|    min|2.74|\n",
      "|    max|4.01|\n",
      "+-------+----+\n",
      "\n",
      "+-------+---------+\n",
      "|summary|sulphates|\n",
      "+-------+---------+\n",
      "|    min|     0.33|\n",
      "|    max|      2.0|\n",
      "+-------+---------+\n",
      "\n",
      "+-------+-------+\n",
      "|summary|alcohol|\n",
      "+-------+-------+\n",
      "|    min|    8.4|\n",
      "|    max|   14.9|\n",
      "+-------+-------+\n",
      "\n",
      "+-------+-------+\n",
      "|summary|quality|\n",
      "+-------+-------+\n",
      "|    min|      3|\n",
      "|    max|      8|\n",
      "+-------+-------+\n",
      "\n"
     ]
    }
   ],
   "source": [
    "# d. Printout the Minimum and Maximum Value for Each Column\n",
    "for column in wine_x1.columns:\n",
    "    wine_x1.select(column).summary(\"min\", \"max\").show()"
   ]
  },
  {
   "cell_type": "code",
   "execution_count": 6,
   "metadata": {},
   "outputs": [
    {
     "name": "stdout",
     "output_type": "stream",
     "text": [
      "+-------------+----------------+-----------+--------------+---------+-------------------+--------------------+-------+---+---------+-------+-------+\n",
      "|fixed acidity|volatile acidity|citric acid|residual sugar|chlorides|free sulfur dioxide|total sulfur dioxide|density| pH|sulphates|alcohol|quality|\n",
      "+-------------+----------------+-----------+--------------+---------+-------------------+--------------------+-------+---+---------+-------+-------+\n",
      "|            0|               0|          0|             0|        0|                  0|                   0|      0|  0|        0|      0|      0|\n",
      "+-------------+----------------+-----------+--------------+---------+-------------------+--------------------+-------+---+---------+-------+-------+\n",
      "\n"
     ]
    }
   ],
   "source": [
    "# e. Generate and Printout a Table Showing the Number of Missing Values for Each Column\n",
    "wine_x1.select([count(when(isnan(c) | col(c).isNull(), c)).alias(c) for c in wine_x1.columns]).show()"
   ]
  },
  {
   "cell_type": "raw",
   "metadata": {},
   "source": [
    "4. Show all the distinct values in the “quality” column."
   ]
  },
  {
   "cell_type": "code",
   "execution_count": 7,
   "metadata": {},
   "outputs": [
    {
     "name": "stdout",
     "output_type": "stream",
     "text": [
      "+-------+\n",
      "|quality|\n",
      "+-------+\n",
      "|      6|\n",
      "|      3|\n",
      "|      5|\n",
      "|      4|\n",
      "|      8|\n",
      "|      7|\n",
      "+-------+\n",
      "\n"
     ]
    }
   ],
   "source": [
    "# Show all the distinct values in the \"quality\" column\n",
    "distinct_qualities = wine_x1.select(\"quality\").distinct()\n",
    "distinct_qualities.show()"
   ]
  },
  {
   "cell_type": "raw",
   "metadata": {},
   "source": [
    "5. Show the mean of the various chemical compositions across samples for the different groups of the wine quality."
   ]
  },
  {
   "cell_type": "code",
   "execution_count": 8,
   "metadata": {},
   "outputs": [
    {
     "name": "stdout",
     "output_type": "stream",
     "text": [
      "+-------+------------------+---------------------+-------------------+-------------------+-------------------+------------------------+-------------------------+------------------+------------------+------------------+------------------+\n",
      "|quality|mean_fixed_acidity|mean_volatile_acidity|   mean_citric_acid|mean_residual_sugar|     mean_chlorides|mean_free_sulfur_dioxide|mean_total_sulfur_dioxide|      mean_density|           mean_pH|    mean_sulphates|      mean_alcohol|\n",
      "+-------+------------------+---------------------+-------------------+-------------------+-------------------+------------------------+-------------------------+------------------+------------------+------------------+------------------+\n",
      "|      6| 8.347178683385575|  0.49748432601880965| 0.2738244514106587|  2.477194357366772|0.08495611285266458|      15.711598746081505|        40.86990595611285|0.9966150626959255|3.3180721003134837|0.6753291536050158|10.629519331243463|\n",
      "|      3|              8.36|   0.8845000000000001|0.17099999999999999| 2.6350000000000002|0.12250000000000001|                    11.0|                     24.9|0.9974640000000001|3.3979999999999997|0.5700000000000001| 9.955000000000002|\n",
      "|      5| 8.167254038179149|   0.5770411160058732|0.24368575624082198|  2.528854625550658|0.09273568281938328|      16.983847283406753|        56.51395007342144|0.9971036270190888|3.3049486049926546|0.6209691629955947| 9.899706314243753|\n",
      "|      4| 7.779245283018868|   0.6939622641509429| 0.1741509433962264|   2.69433962264151|0.09067924528301884|      12.264150943396226|        36.24528301886792|0.9965424528301886| 3.381509433962264|0.5964150943396227|10.265094339622639|\n",
      "|      8| 8.566666666666665|   0.4233333333333334|0.39111111111111113| 2.5777777777777775|0.06844444444444445|      13.277777777777779|        33.44444444444444|0.9952122222222223|3.2672222222222214|0.7677777777777778|12.094444444444443|\n",
      "|      7| 8.872361809045225|   0.4039195979899498|0.37517587939698493| 2.7206030150753793|0.07658793969849244|      14.045226130653266|        35.02010050251256|0.9961042713567828| 3.290753768844219|0.7412562814070353|11.465912897822443|\n",
      "+-------+------------------+---------------------+-------------------+-------------------+-------------------+------------------------+-------------------------+------------------+------------------+------------------+------------------+\n",
      "\n"
     ]
    }
   ],
   "source": [
    "from pyspark.sql import functions as F\n",
    "\n",
    "# Group by 'quality' and calculate the mean for each chemical composition\n",
    "mean_compositions = wine_x1.groupBy(\"quality\").agg(\n",
    "    F.mean('fixed acidity').alias('mean_fixed_acidity'),\n",
    "    F.mean('volatile acidity').alias('mean_volatile_acidity'),\n",
    "    F.mean('citric acid').alias('mean_citric_acid'),\n",
    "    F.mean('residual sugar').alias('mean_residual_sugar'),\n",
    "    F.mean('chlorides').alias('mean_chlorides'),\n",
    "    F.mean('free sulfur dioxide').alias('mean_free_sulfur_dioxide'),\n",
    "    F.mean('total sulfur dioxide').alias('mean_total_sulfur_dioxide'),\n",
    "    F.mean('density').alias('mean_density'),\n",
    "    F.mean('pH').alias('mean_pH'),\n",
    "    F.mean('sulphates').alias('mean_sulphates'),\n",
    "    F.mean('alcohol').alias('mean_alcohol')\n",
    ")\n",
    "\n",
    "# Show the results\n",
    "mean_compositions.show()"
   ]
  },
  {
   "cell_type": "raw",
   "metadata": {},
   "source": [
    "6. Re-load the wine dataset into a data frame named wine_x as you load add a new column named feature_x of vector type that contains four columns as follows: “citric acid\",\"volatile acidity\",\"chlorides\",\"sulphates\"\n",
    "pread the data frame across 3 RDD partitions. "
   ]
  },
  {
   "cell_type": "code",
   "execution_count": 9,
   "metadata": {},
   "outputs": [
    {
     "name": "stdout",
     "output_type": "stream",
     "text": [
      "+-------------+----------------+-----------+--------------+---------+-------------------+--------------------+-------+----+---------+-------+-------+--------------------+\n",
      "|fixed acidity|volatile acidity|citric acid|residual sugar|chlorides|free sulfur dioxide|total sulfur dioxide|density|  pH|sulphates|alcohol|quality|           feature_x|\n",
      "+-------------+----------------+-----------+--------------+---------+-------------------+--------------------+-------+----+---------+-------+-------+--------------------+\n",
      "|          7.4|             0.7|        0.0|           1.9|    0.076|               11.0|                34.0| 0.9978|3.51|     0.56|    9.4|      5|[0.0,0.7,0.076,0.56]|\n",
      "|          7.8|            0.88|        0.0|           2.6|    0.098|               25.0|                67.0| 0.9968| 3.2|     0.68|    9.8|      5|[0.0,0.88,0.098,0...|\n",
      "|          7.8|            0.76|       0.04|           2.3|    0.092|               15.0|                54.0|  0.997|3.26|     0.65|    9.8|      5|[0.04,0.76,0.092,...|\n",
      "|         11.2|            0.28|       0.56|           1.9|    0.075|               17.0|                60.0|  0.998|3.16|     0.58|    9.8|      6|[0.56,0.28,0.075,...|\n",
      "|          7.4|             0.7|        0.0|           1.9|    0.076|               11.0|                34.0| 0.9978|3.51|     0.56|    9.4|      5|[0.0,0.7,0.076,0.56]|\n",
      "|          7.4|            0.66|        0.0|           1.8|    0.075|               13.0|                40.0| 0.9978|3.51|     0.56|    9.4|      5|[0.0,0.66,0.075,0...|\n",
      "|          7.9|             0.6|       0.06|           1.6|    0.069|               15.0|                59.0| 0.9964| 3.3|     0.46|    9.4|      5|[0.06,0.6,0.069,0...|\n",
      "|          7.3|            0.65|        0.0|           1.2|    0.065|               15.0|                21.0| 0.9946|3.39|     0.47|   10.0|      7|[0.0,0.65,0.065,0...|\n",
      "|          7.8|            0.58|       0.02|           2.0|    0.073|                9.0|                18.0| 0.9968|3.36|     0.57|    9.5|      7|[0.02,0.58,0.073,...|\n",
      "|          7.5|             0.5|       0.36|           6.1|    0.071|               17.0|               102.0| 0.9978|3.35|      0.8|   10.5|      5|[0.36,0.5,0.071,0.8]|\n",
      "|          6.7|            0.58|       0.08|           1.8|    0.097|               15.0|                65.0| 0.9959|3.28|     0.54|    9.2|      5|[0.08,0.58,0.097,...|\n",
      "|          7.5|             0.5|       0.36|           6.1|    0.071|               17.0|               102.0| 0.9978|3.35|      0.8|   10.5|      5|[0.36,0.5,0.071,0.8]|\n",
      "|          5.6|           0.615|        0.0|           1.6|    0.089|               16.0|                59.0| 0.9943|3.58|     0.52|    9.9|      5|[0.0,0.615,0.089,...|\n",
      "|          7.8|            0.61|       0.29|           1.6|    0.114|                9.0|                29.0| 0.9974|3.26|     1.56|    9.1|      5|[0.29,0.61,0.114,...|\n",
      "|          8.9|            0.62|       0.18|           3.8|    0.176|               52.0|               145.0| 0.9986|3.16|     0.88|    9.2|      5|[0.18,0.62,0.176,...|\n",
      "|          8.9|            0.62|       0.19|           3.9|     0.17|               51.0|               148.0| 0.9986|3.17|     0.93|    9.2|      5|[0.19,0.62,0.17,0...|\n",
      "|          8.5|            0.28|       0.56|           1.8|    0.092|               35.0|               103.0| 0.9969| 3.3|     0.75|   10.5|      7|[0.56,0.28,0.092,...|\n",
      "|          8.1|            0.56|       0.28|           1.7|    0.368|               16.0|                56.0| 0.9968|3.11|     1.28|    9.3|      5|[0.28,0.56,0.368,...|\n",
      "|          7.4|            0.59|       0.08|           4.4|    0.086|                6.0|                29.0| 0.9974|3.38|      0.5|    9.0|      4|[0.08,0.59,0.086,...|\n",
      "|          7.9|            0.32|       0.51|           1.8|    0.341|               17.0|                56.0| 0.9969|3.04|     1.08|    9.2|      6|[0.51,0.32,0.341,...|\n",
      "+-------------+----------------+-----------+--------------+---------+-------------------+--------------------+-------+----+---------+-------+-------+--------------------+\n",
      "only showing top 20 rows\n",
      "\n"
     ]
    }
   ],
   "source": [
    "from pyspark.sql import SparkSession\n",
    "from pyspark.ml.feature import VectorAssembler\n",
    "\n",
    "# Initialize the SparkSession\n",
    "spark = SparkSession.builder.appName(\"Wine Data Analysis\").getOrCreate()\n",
    "\n",
    "# Reload the wine dataset\n",
    "wine_x = spark.read.csv(\"/home/centos/Downloads/wine.csv\", header=True, inferSchema=True, sep=\";\")\n",
    "\n",
    "# Define the VectorAssembler with the desired columns\n",
    "assembler = VectorAssembler(inputCols=[\"citric acid\", \"volatile acidity\", \"chlorides\", \"sulphates\"], outputCol=\"feature_x\")\n",
    "\n",
    "# Transform the dataset to add the 'feature_x' column\n",
    "wine_x = assembler.transform(wine_x)\n",
    "\n",
    "# Repartition the DataFrame into 3 RDD partitions\n",
    "wine_x = wine_x.coalesce(3)\n",
    "\n",
    "# Show the resulting DataFrame\n",
    "wine_x.show()"
   ]
  },
  {
   "cell_type": "raw",
   "metadata": {},
   "source": [
    "7. Cache the dataframe"
   ]
  },
  {
   "cell_type": "code",
   "execution_count": 10,
   "metadata": {},
   "outputs": [
    {
     "data": {
      "text/plain": [
       "1599"
      ]
     },
     "execution_count": 10,
     "metadata": {},
     "output_type": "execute_result"
    }
   ],
   "source": [
    "# Cache the DataFrame\n",
    "wine_x.cache()\n",
    "\n",
    "# To verify\n",
    "wine_x.count()"
   ]
  },
  {
   "cell_type": "raw",
   "metadata": {},
   "source": [
    "8. Define a estimator that uses K-means clustering to cluster all the wine instances into 6 clusters using the new feature_x vector column you added in step 6."
   ]
  },
  {
   "cell_type": "code",
   "execution_count": 11,
   "metadata": {},
   "outputs": [],
   "source": [
    "from pyspark.ml.clustering import KMeans\n",
    "\n",
    "# Define the KMeans estimator\n",
    "kmeans = KMeans().setK(6).setSeed(1).setFeaturesCol(\"feature_x\")\n",
    "\n",
    "# Fit the model to the data\n",
    "model = kmeans.fit(wine_x)"
   ]
  },
  {
   "cell_type": "raw",
   "metadata": {},
   "source": [
    "9. Print the cluster sizes and the cluster centroids"
   ]
  },
  {
   "cell_type": "code",
   "execution_count": 12,
   "metadata": {},
   "outputs": [
    {
     "name": "stdout",
     "output_type": "stream",
     "text": [
      "Cluster Sizes for 6 Clusters: \n",
      "+----------+-----+\n",
      "|prediction|count|\n",
      "+----------+-----+\n",
      "|         0|  400|\n",
      "|         1|  252|\n",
      "|         2|    1|\n",
      "|         3|  605|\n",
      "|         4|   49|\n",
      "|         5|  292|\n",
      "+----------+-----+\n",
      "\n",
      "Cluster Sizes for 6 Clusters: \n",
      "Cluster 0: [0.434875 0.42475  0.08378  0.5968  ]\n",
      "Cluster 1: [0.10079365 0.81123016 0.08349603 0.55968254]\n",
      "Cluster 2: [1.   0.52 0.61 2.  ]\n",
      "Cluster 3: [0.1308595  0.56433884 0.08129587 0.61791736]\n",
      "Cluster 4: [0.44795918 0.51755102 0.21959184 1.24142857]\n",
      "Cluster 5: [0.45143836 0.3505137  0.08476712 0.80804795]\n"
     ]
    }
   ],
   "source": [
    "# Transform the DataFrame to include cluster predictions\n",
    "transformed = model.transform(wine_x)\n",
    "\n",
    "# Count the number of instances in each cluster\n",
    "cluster_sizes = transformed.groupBy('prediction').count().orderBy('prediction')\n",
    "print(\"Cluster Sizes for 6 Clusters: \")\n",
    "cluster_sizes.show()\n",
    "\n",
    "# Access and print the cluster centroids\n",
    "centroids = model.clusterCenters()\n",
    "print(\"Cluster Sizes for 6 Clusters: \")\n",
    "for i, center in enumerate(centroids):\n",
    "    print(f\"Cluster {i}: {center}\")"
   ]
  },
  {
   "cell_type": "raw",
   "metadata": {},
   "source": [
    "10. Repeat steps 8 & 9 but set the number of k to 4."
   ]
  },
  {
   "cell_type": "code",
   "execution_count": 13,
   "metadata": {},
   "outputs": [
    {
     "name": "stdout",
     "output_type": "stream",
     "text": [
      "Cluster Sizes for 4 Clusters:\n",
      "+----------+-----+\n",
      "|prediction|count|\n",
      "+----------+-----+\n",
      "|         0|  619|\n",
      "|         1|   55|\n",
      "|         2|  470|\n",
      "|         3|  455|\n",
      "+----------+-----+\n",
      "\n",
      "Cluster Centroids for 4 Clusters:\n",
      "Cluster 0: [0.08555732 0.68045382 0.08275637 0.59882166]\n",
      "Cluster 1: [0.46037037 0.51185185 0.21912963 1.2387037 ]\n",
      "Cluster 2: [0.2926569  0.48105649 0.08201255 0.60267782]\n",
      "Cluster 3: [0.48931663 0.36235763 0.08394761 0.73200456]\n"
     ]
    }
   ],
   "source": [
    "# Define the KMeans estimator with 4 clusters\n",
    "kmeans_4 = KMeans().setK(4).setSeed(1).setFeaturesCol(\"feature_x\")\n",
    "\n",
    "# Fit the model to the data\n",
    "model_4 = kmeans_4.fit(wine_x)\n",
    "\n",
    "# Transform the DataFrame to include cluster predictions\n",
    "transformed_4 = model_4.transform(wine_x)\n",
    "\n",
    "# Count the number of instances in each cluster\n",
    "cluster_sizes_4 = transformed_4.groupBy('prediction').count().orderBy('prediction')\n",
    "print(\"Cluster Sizes for 4 Clusters:\")\n",
    "cluster_sizes_4.show()\n",
    "\n",
    "# Access and print the cluster centroids\n",
    "centroids_4 = model_4.clusterCenters()\n",
    "print(\"Cluster Centroids for 4 Clusters:\")\n",
    "for i, center in enumerate(centroids_4):\n",
    "    print(f\"Cluster {i}: {center}\")"
   ]
  },
  {
   "cell_type": "code",
   "execution_count": null,
   "metadata": {},
   "outputs": [],
   "source": []
  }
 ],
 "metadata": {
  "kernelspec": {
   "display_name": "Python 3",
   "language": "python",
   "name": "python3"
  },
  "language_info": {
   "codemirror_mode": {
    "name": "ipython",
    "version": 3
   },
   "file_extension": ".py",
   "mimetype": "text/x-python",
   "name": "python",
   "nbconvert_exporter": "python",
   "pygments_lexer": "ipython3",
   "version": "3.8.5"
  }
 },
 "nbformat": 4,
 "nbformat_minor": 4
}
